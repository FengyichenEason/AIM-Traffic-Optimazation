{
 "cells": [
  {
   "cell_type": "markdown",
   "id": "6915b1a0",
   "metadata": {},
   "source": [
    "\n",
    "# 交通优化系统综合分析报告\n",
    "\n",
    "## 项目概述\n",
    "本Notebook提供了交通优化实验的全面分析，包括:\n",
    "- 实验结果比较\n",
    "- 性能指标分析\n",
    "- 多维度可视化\n",
    "- 关键洞察\n",
    "\n",
    "**注意**: 运行此Notebook需要完整的项目环境和依赖。\n"
   ]
  },
  {
   "cell_type": "code",
   "id": "a8aba9f8",
   "metadata": {
    "ExecuteTime": {
     "end_time": "2025-02-28T05:33:30.845511Z",
     "start_time": "2025-02-28T05:33:30.170770Z"
    }
   },
   "source": [
    "\n",
    "# 环境配置与依赖导入\n",
    "import sys\n",
    "import os\n",
    "import warnings\n",
    "\n",
    "# 抑制警告信息\n",
    "warnings.filterwarnings('ignore')\n",
    "\n",
    "# 获取并打印当前Python路径\n",
    "print(\"Python Path:\")\n",
    "for path in sys.path:\n",
    "    print(path)\n",
    "\n",
    "# 导入数据科学和可视化库\n",
    "import numpy as np\n",
    "import pandas as pd\n",
    "import matplotlib.pyplot as plt\n",
    "import seaborn as sns\n",
    "\n",
    "# 项目特定模块\n",
    "try:\n",
    "    from AIM_Traffic_Optimization.src.experiments.experiment_manager import ExperimentManager\n",
    "    from src.visualization.performance_metrics import PerformanceAnalyzer\n",
    "    print(\"成功导入项目模块\")\n",
    "except ImportError as e:\n",
    "    print(f\"模块导入错误: {e}\")\n",
    "    print(\"请检查项目结构和PYTHONPATH\")\n",
    "\n",
    "# 配置可视化样式\n",
    "plt.style.use('seaborn')\n",
    "sns.set_context('notebook')\n"
   ],
   "outputs": [
    {
     "name": "stdout",
     "output_type": "stream",
     "text": [
      "Python Path:\n",
      "C:\\Users\\15470\\PycharmProjects\\IntersectionControl\\AIM_Traffic_Optimization\\scripts\\notebooks\n",
      "C:\\Users\\15470\\PycharmProjects\\IntersectionControl\n",
      "C:\\Users\\15470\\anaconda3\\python312.zip\n",
      "C:\\Users\\15470\\anaconda3\\DLLs\n",
      "C:\\Users\\15470\\anaconda3\\Lib\n",
      "C:\\Users\\15470\\anaconda3\n",
      "\n",
      "C:\\Users\\15470\\anaconda3\\Lib\\site-packages\n",
      "C:\\Users\\15470\\anaconda3\\Lib\\site-packages\\win32\n",
      "C:\\Users\\15470\\anaconda3\\Lib\\site-packages\\win32\\lib\n",
      "C:\\Users\\15470\\anaconda3\\Lib\\site-packages\\Pythonwin\n",
      "模块导入错误: No module named 'src'\n",
      "请检查项目结构和PYTHONPATH\n"
     ]
    },
    {
     "ename": "OSError",
     "evalue": "'seaborn' is not a valid package style, path of style file, URL of style file, or library style name (library styles are listed in `style.available`)",
     "output_type": "error",
     "traceback": [
      "\u001B[1;31m---------------------------------------------------------------------------\u001B[0m",
      "\u001B[1;31mFileNotFoundError\u001B[0m                         Traceback (most recent call last)",
      "File \u001B[1;32m~\\anaconda3\\Lib\\site-packages\\matplotlib\\style\\core.py:137\u001B[0m, in \u001B[0;36muse\u001B[1;34m(style)\u001B[0m\n\u001B[0;32m    136\u001B[0m \u001B[38;5;28;01mtry\u001B[39;00m:\n\u001B[1;32m--> 137\u001B[0m     style \u001B[38;5;241m=\u001B[39m _rc_params_in_file(style)\n\u001B[0;32m    138\u001B[0m \u001B[38;5;28;01mexcept\u001B[39;00m \u001B[38;5;167;01mOSError\u001B[39;00m \u001B[38;5;28;01mas\u001B[39;00m err:\n",
      "File \u001B[1;32m~\\anaconda3\\Lib\\site-packages\\matplotlib\\__init__.py:866\u001B[0m, in \u001B[0;36m_rc_params_in_file\u001B[1;34m(fname, transform, fail_on_error)\u001B[0m\n\u001B[0;32m    865\u001B[0m rc_temp \u001B[38;5;241m=\u001B[39m {}\n\u001B[1;32m--> 866\u001B[0m \u001B[38;5;28;01mwith\u001B[39;00m _open_file_or_url(fname) \u001B[38;5;28;01mas\u001B[39;00m fd:\n\u001B[0;32m    867\u001B[0m     \u001B[38;5;28;01mtry\u001B[39;00m:\n",
      "File \u001B[1;32m~\\anaconda3\\Lib\\contextlib.py:137\u001B[0m, in \u001B[0;36m_GeneratorContextManager.__enter__\u001B[1;34m(self)\u001B[0m\n\u001B[0;32m    136\u001B[0m \u001B[38;5;28;01mtry\u001B[39;00m:\n\u001B[1;32m--> 137\u001B[0m     \u001B[38;5;28;01mreturn\u001B[39;00m \u001B[38;5;28mnext\u001B[39m(\u001B[38;5;28mself\u001B[39m\u001B[38;5;241m.\u001B[39mgen)\n\u001B[0;32m    138\u001B[0m \u001B[38;5;28;01mexcept\u001B[39;00m \u001B[38;5;167;01mStopIteration\u001B[39;00m:\n",
      "File \u001B[1;32m~\\anaconda3\\Lib\\site-packages\\matplotlib\\__init__.py:843\u001B[0m, in \u001B[0;36m_open_file_or_url\u001B[1;34m(fname)\u001B[0m\n\u001B[0;32m    842\u001B[0m fname \u001B[38;5;241m=\u001B[39m os\u001B[38;5;241m.\u001B[39mpath\u001B[38;5;241m.\u001B[39mexpanduser(fname)\n\u001B[1;32m--> 843\u001B[0m \u001B[38;5;28;01mwith\u001B[39;00m \u001B[38;5;28mopen\u001B[39m(fname, encoding\u001B[38;5;241m=\u001B[39m\u001B[38;5;124m'\u001B[39m\u001B[38;5;124mutf-8\u001B[39m\u001B[38;5;124m'\u001B[39m) \u001B[38;5;28;01mas\u001B[39;00m f:\n\u001B[0;32m    844\u001B[0m     \u001B[38;5;28;01myield\u001B[39;00m f\n",
      "\u001B[1;31mFileNotFoundError\u001B[0m: [Errno 2] No such file or directory: 'seaborn'",
      "\nThe above exception was the direct cause of the following exception:\n",
      "\u001B[1;31mOSError\u001B[0m                                   Traceback (most recent call last)",
      "Cell \u001B[1;32mIn[1], line 30\u001B[0m\n\u001B[0;32m     27\u001B[0m     \u001B[38;5;28mprint\u001B[39m(\u001B[38;5;124m\"\u001B[39m\u001B[38;5;124m请检查项目结构和PYTHONPATH\u001B[39m\u001B[38;5;124m\"\u001B[39m)\n\u001B[0;32m     29\u001B[0m \u001B[38;5;66;03m# 配置可视化样式\u001B[39;00m\n\u001B[1;32m---> 30\u001B[0m plt\u001B[38;5;241m.\u001B[39mstyle\u001B[38;5;241m.\u001B[39muse(\u001B[38;5;124m'\u001B[39m\u001B[38;5;124mseaborn\u001B[39m\u001B[38;5;124m'\u001B[39m)\n\u001B[0;32m     31\u001B[0m sns\u001B[38;5;241m.\u001B[39mset_context(\u001B[38;5;124m'\u001B[39m\u001B[38;5;124mnotebook\u001B[39m\u001B[38;5;124m'\u001B[39m)\n",
      "File \u001B[1;32m~\\anaconda3\\Lib\\site-packages\\matplotlib\\style\\core.py:139\u001B[0m, in \u001B[0;36muse\u001B[1;34m(style)\u001B[0m\n\u001B[0;32m    137\u001B[0m         style \u001B[38;5;241m=\u001B[39m _rc_params_in_file(style)\n\u001B[0;32m    138\u001B[0m     \u001B[38;5;28;01mexcept\u001B[39;00m \u001B[38;5;167;01mOSError\u001B[39;00m \u001B[38;5;28;01mas\u001B[39;00m err:\n\u001B[1;32m--> 139\u001B[0m         \u001B[38;5;28;01mraise\u001B[39;00m \u001B[38;5;167;01mOSError\u001B[39;00m(\n\u001B[0;32m    140\u001B[0m             \u001B[38;5;124mf\u001B[39m\u001B[38;5;124m\"\u001B[39m\u001B[38;5;132;01m{\u001B[39;00mstyle\u001B[38;5;132;01m!r}\u001B[39;00m\u001B[38;5;124m is not a valid package style, path of style \u001B[39m\u001B[38;5;124m\"\u001B[39m\n\u001B[0;32m    141\u001B[0m             \u001B[38;5;124mf\u001B[39m\u001B[38;5;124m\"\u001B[39m\u001B[38;5;124mfile, URL of style file, or library style name (library \u001B[39m\u001B[38;5;124m\"\u001B[39m\n\u001B[0;32m    142\u001B[0m             \u001B[38;5;124mf\u001B[39m\u001B[38;5;124m\"\u001B[39m\u001B[38;5;124mstyles are listed in `style.available`)\u001B[39m\u001B[38;5;124m\"\u001B[39m) \u001B[38;5;28;01mfrom\u001B[39;00m \u001B[38;5;21;01merr\u001B[39;00m\n\u001B[0;32m    143\u001B[0m filtered \u001B[38;5;241m=\u001B[39m {}\n\u001B[0;32m    144\u001B[0m \u001B[38;5;28;01mfor\u001B[39;00m k \u001B[38;5;129;01min\u001B[39;00m style:  \u001B[38;5;66;03m# don't trigger RcParams.__getitem__('backend')\u001B[39;00m\n",
      "\u001B[1;31mOSError\u001B[0m: 'seaborn' is not a valid package style, path of style file, URL of style file, or library style name (library styles are listed in `style.available`)"
     ]
    }
   ],
   "execution_count": 1
  },
  {
   "cell_type": "code",
   "execution_count": null,
   "id": "be51d9e1",
   "metadata": {},
   "outputs": [],
   "source": [
    "\n",
    "# 运行实验并获取结果\n",
    "try:\n",
    "    experiment_manager = ExperimentManager()\n",
    "    results = experiment_manager.run_density_experiments()\n",
    "\n",
    "    # 性能比较\n",
    "    comparison = PerformanceAnalyzer.compare_experiments(results)\n",
    "    print(\"实验结果综合比较:\")\n",
    "    for key, value in comparison.items():\n",
    "        print(f\"{key}: {value}\")\n",
    "except Exception as e:\n",
    "    print(f\"实验运行出错: {e}\")\n"
   ]
  },
  {
   "cell_type": "code",
   "execution_count": null,
   "id": "b52693f9",
   "metadata": {},
   "outputs": [],
   "source": [
    "\n",
    "# 数据预处理\n",
    "try:\n",
    "    # 将实验结果转换为DataFrame以便分析\n",
    "    df_results = pd.DataFrame(results)\n",
    "\n",
    "    # 基本统计描述\n",
    "    print(\"\\n实验结果描述性统计:\")\n",
    "    print(df_results.describe())\n",
    "except Exception as e:\n",
    "    print(f\"数据处理出错: {e}\")\n"
   ]
  },
  {
   "cell_type": "code",
   "execution_count": null,
   "id": "dc45cf33",
   "metadata": {},
   "outputs": [],
   "source": [
    "\n",
    "# 多维度可视化分析\n",
    "try:\n",
    "    # 1. 目标函数值箱线图\n",
    "    plt.figure(figsize=(10, 6))\n",
    "    sns.boxplot(x=df_results['objective_value'])\n",
    "    plt.title('目标函数值分布')\n",
    "    plt.xlabel('目标函数值')\n",
    "    plt.tight_layout()\n",
    "    plt.show()\n",
    "\n",
    "    # 2. 求解时间散点图\n",
    "    plt.figure(figsize=(10, 6))\n",
    "    plt.scatter(\n",
    "        df_results.index, \n",
    "        df_results['solve_time'], \n",
    "        alpha=0.7\n",
    "    )\n",
    "    plt.title('实验求解时间')\n",
    "    plt.xlabel('实验组')\n",
    "    plt.ylabel('求解时间(秒)')\n",
    "    plt.tight_layout()\n",
    "    plt.show()\n",
    "except Exception as e:\n",
    "    print(f\"可视化出错: {e}\")\n"
   ]
  },
  {
   "cell_type": "code",
   "execution_count": null,
   "id": "cf14fdd1",
   "metadata": {},
   "outputs": [],
   "source": [
    "\n",
    "# 高级统计分析\n",
    "try:\n",
    "    # 目标函数值相关性分析\n",
    "    correlation_matrix = df_results[['objective_value', 'solve_time']].corr()\n",
    "    print(\"\\n相关性矩阵:\")\n",
    "    print(correlation_matrix)\n",
    "\n",
    "    # 假设检验\n",
    "    from scipy import stats\n",
    "\n",
    "    # 单样本t检验\n",
    "    t_statistic, p_value = stats.ttest_1samp(\n",
    "        df_results['objective_value'], \n",
    "        popmean=np.mean(df_results['objective_value'])\n",
    "    )\n",
    "    print(\"\\n目标函数值单样本t检验:\")\n",
    "    print(f\"t统计量: {t_statistic}\")\n",
    "    print(f\"p值: {p_value}\")\n",
    "except Exception as e:\n",
    "    print(f\"统计分析出错: {e}\")\n"
   ]
  }
 ],
 "metadata": {
  "kernelspec": {
   "name": "python3",
   "language": "python",
   "display_name": "Python 3 (ipykernel)"
  }
 },
 "nbformat": 4,
 "nbformat_minor": 5
}
